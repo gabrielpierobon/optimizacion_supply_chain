{
 "cells": [
  {
   "cell_type": "code",
   "execution_count": null,
   "metadata": {},
   "outputs": [],
   "source": []
  },
  {
   "cell_type": "code",
   "execution_count": null,
   "metadata": {},
   "outputs": [],
   "source": [
    "weight = {'A': 12583, 'B': 9204, 'C': 12611, 'D': 12131, 'E': 12889, 'F': 11529}\n",
    "prof = {'A': 102564, 'B': 130043, 'C': 127648, 'D': 155058, 'E': 238846, 'F': 197030}\n",
    "prod = ['A', 'B', 'C', 'D', 'E', 'F']\n",
    "\n",
    "# Initialized model, defined decision variables and objective\n",
    "model = LpProblem(\"Loading Truck Problem\", LpMaximize)\n",
    "x = LpVariable.dicts('ship_', prod, cat='Binary')\n",
    "model += lpSum([prof[i] * x[i] for i in prod])\n",
    "\n",
    "# Define Constraint\n",
    "#Add a constraint to ensure the total weight of the truck is less than or equal to 25,000 lbs.\n",
    "model += lpSum([weight[i] * x[i] for i in prod]) <= 25000\n",
    "#Add a constraint so that the model will, at most, select only one of the products between D, E, and F.\n",
    "model += x['D'] + x['E'] + x['F'] <= 1\n",
    "\n",
    "model.solve()\n",
    "\n",
    "for i in model.variables():\n",
    "    print(i.name, \"=\", i.varValue)\n",
    "\n",
    "respuesta_json = {\n",
    "            'ship_A': int(x[0].varValue),\n",
    "            'ship_B': int(x[1].varValue),\n",
    "            'ship_C': int(x[2].varValue),\n",
    "            'ship_D': int(x[3].varValue),\n",
    "            'ship_E': int(x[4].varValue),\n",
    "            'ship_F': int(x[5].varValue)\n",
    "}"
   ]
  }
 ],
 "metadata": {
  "kernelspec": {
   "display_name": "Python 3",
   "language": "python",
   "name": "python3"
  },
  "language_info": {
   "codemirror_mode": {
    "name": "ipython",
    "version": 3
   },
   "file_extension": ".py",
   "mimetype": "text/x-python",
   "name": "python",
   "nbconvert_exporter": "python",
   "pygments_lexer": "ipython3",
   "version": "3.6.5"
  }
 },
 "nbformat": 4,
 "nbformat_minor": 2
}
