{
 "cells": [
  {
   "cell_type": "code",
   "execution_count": 8,
   "metadata": {},
   "outputs": [],
   "source": [
    "from pulp import *\n",
    "import json"
   ]
  },
  {
   "cell_type": "code",
   "execution_count": 11,
   "metadata": {},
   "outputs": [
    {
     "ename": "SyntaxError",
     "evalue": "EOL while scanning string literal (<ipython-input-11-c5c52d5fc9b1>, line 21)",
     "output_type": "error",
     "traceback": [
      "\u001b[1;36m  File \u001b[1;32m\"<ipython-input-11-c5c52d5fc9b1>\"\u001b[1;36m, line \u001b[1;32m21\u001b[0m\n\u001b[1;33m    respuesta_json = '[{\u001b[0m\n\u001b[1;37m                        ^\u001b[0m\n\u001b[1;31mSyntaxError\u001b[0m\u001b[1;31m:\u001b[0m EOL while scanning string literal\n"
     ]
    }
   ],
   "source": [
    "weight = {'A': 12583, 'B': 9204, 'C': 12611, 'D': 12131, 'E': 12889, 'F': 11529}\n",
    "prof = {'A': 102564, 'B': 130043, 'C': 127648, 'D': 155058, 'E': 238846, 'F': 197030}\n",
    "prod = ['A', 'B', 'C', 'D', 'E', 'F']\n",
    "\n",
    "# Initialized model, defined decision variables and objective\n",
    "model = LpProblem(\"Loading Truck Problem\", LpMaximize)\n",
    "x = LpVariable.dicts('ship_', prod, cat='Binary')\n",
    "model += lpSum([prof[i] * x[i] for i in prod])\n",
    "\n",
    "# Define Constraint\n",
    "#Add a constraint to ensure the total weight of the truck is less than or equal to 25,000 lbs.\n",
    "model += lpSum([weight[i] * x[i] for i in prod]) <= 25000\n",
    "#Add a constraint so that the model will, at most, select only one of the products between D, E, and F.\n",
    "model += x['D'] + x['E'] + x['F'] <= 1\n",
    "\n",
    "model.solve()\n",
    "\n",
    "for i in model.variables():\n",
    "    print(i.name, \"=\", i.varValue)\n",
    "\n",
    "respuesta_json = '[{\\\n",
    "            \"ship_A\": int(model.variables()[0].varValue),\\\n",
    "            \"ship_B\": int(model.variables()[1].varValue),\\\n",
    "            \"ship_C\": int(model.variables()[2].varValue),\\\n",
    "            \"ship_D\": int(model.variables()[3].varValue),\\\n",
    "            \"ship_E\": int(model.variables()[4].varValue),\\\n",
    "            \"ship_F\": int(model.variables()[5].varValue)\\\n",
    "}]'\n",
    "\n",
    "json_object = json.loads(respuesta_json)\n",
    "json_formatted_str = json.dumps(json_object, indent=2)\n",
    "\n",
    "print(json_formatted_str)"
   ]
  },
  {
   "cell_type": "code",
   "execution_count": 6,
   "metadata": {},
   "outputs": [
    {
     "data": {
      "text/plain": [
       "{'ship_A': 0, 'ship_B': 1, 'ship_C': 0, 'ship_D': 0, 'ship_E': 1, 'ship_F': 0}"
      ]
     },
     "execution_count": 6,
     "metadata": {},
     "output_type": "execute_result"
    }
   ],
   "source": []
  }
 ],
 "metadata": {
  "kernelspec": {
   "display_name": "Python_3.7_base",
   "language": "python",
   "name": "python_3.7_base"
  },
  "language_info": {
   "codemirror_mode": {
    "name": "ipython",
    "version": 3
   },
   "file_extension": ".py",
   "mimetype": "text/x-python",
   "name": "python",
   "nbconvert_exporter": "python",
   "pygments_lexer": "ipython3",
   "version": "3.7.0"
  }
 },
 "nbformat": 4,
 "nbformat_minor": 2
}
